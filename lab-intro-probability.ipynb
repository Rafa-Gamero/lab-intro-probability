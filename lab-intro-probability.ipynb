{
 "cells": [
  {
   "cell_type": "markdown",
   "metadata": {},
   "source": [
    "# Lab | Intro to Probability"
   ]
  },
  {
   "cell_type": "markdown",
   "metadata": {},
   "source": [
    "**Objective**\n",
    "\n",
    "Welcome to this Intro to Probability lab, where we explore decision-making scenarios through the lens of probability and strategic analysis. In the business world, making informed decisions is crucial, especially when faced with uncertainties. This lab focuses on scenarios where probabilistic outcomes play a significant role in shaping strategies and outcomes. Students will engage in exercises that require assessing and choosing optimal paths based on data-driven insights. The goal is to enhance your skills by applying probability concepts to solve real-world problems."
   ]
  },
  {
   "cell_type": "markdown",
   "metadata": {},
   "source": [
    "**Challenge 1**"
   ]
  },
  {
   "cell_type": "markdown",
   "metadata": {},
   "source": [
    "#### Ironhack Airlines \n",
    "\n",
    "Often Airlines sell more tickets than they have seats available, this is called overbooking. Consider the following:\n",
    "- A plane has 450 seats. \n",
    "- Based on historical data we conclude that each individual passenger has a 3% chance of missing it's flight. \n",
    "\n",
    "If the Ironhack Airlines routinely sells 460 tickets, what is the chance that they have a seats for all passenger?"
   ]
  },
  {
   "cell_type": "code",
   "execution_count": 1,
   "metadata": {},
   "outputs": [
    {
     "name": "stdout",
     "output_type": "stream",
     "text": [
      "The probability that there are enough seats for all passengers is: 0.8845\n"
     ]
    }
   ],
   "source": [
    "#code here\n",
    "import scipy.stats as stats\n",
    "\n",
    "# Total tickets sold and seats available\n",
    "n_tickets = 460\n",
    "seats_available = 450\n",
    "prob_show_up = 0.97\n",
    "\n",
    "# Calculate the probability that 450 or fewer passengers show up\n",
    "probability = stats.binom.cdf(seats_available, n_tickets, prob_show_up)\n",
    "\n",
    "print(f\"The probability that there are enough seats for all passengers is: {probability:.4f}\")\n"
   ]
  },
  {
   "cell_type": "markdown",
   "metadata": {},
   "source": [
    "**Challenge 2**"
   ]
  },
  {
   "cell_type": "markdown",
   "metadata": {},
   "source": [
    "#### Ironhack Call Center "
   ]
  },
  {
   "cell_type": "markdown",
   "metadata": {},
   "source": [
    "Suppose a customer service representative at a call center is handling customer complaints. Consider the following:\n",
    "- The probability of successfully resolving a customer complaint on the first attempt is 0.3. \n",
    "\n",
    "\n",
    "What is the probability that the representative needs to make at least three attempts before successfully resolving a customer complaint?"
   ]
  },
  {
   "cell_type": "code",
   "execution_count": 2,
   "metadata": {},
   "outputs": [
    {
     "name": "stdout",
     "output_type": "stream",
     "text": [
      "The probability that at least 3 attempts are needed: 0.4900\n"
     ]
    }
   ],
   "source": [
    "#code here\n",
    "# Probability of success on each attempt\n",
    "p_success = 0.3\n",
    "\n",
    "# Probability that at least 3 attempts are needed\n",
    "p_at_least_3_attempts = (1 - p_success) ** 2\n",
    "\n",
    "print(f\"The probability that at least 3 attempts are needed: {p_at_least_3_attempts:.4f}\")\n"
   ]
  },
  {
   "cell_type": "markdown",
   "metadata": {},
   "source": [
    "**Challenge 3**"
   ]
  },
  {
   "cell_type": "markdown",
   "metadata": {},
   "source": [
    "#### Ironhack Website"
   ]
  },
  {
   "cell_type": "markdown",
   "metadata": {},
   "source": [
    "Consider a scenario related to Ironhack website traffic. Where:\n",
    "- our website takes on average 500 visits per hour.\n",
    "- the website's server is designed to handle up to 550 vists per hour.\n",
    "\n",
    "\n",
    "What is the probability of the website server being overwhelmed?"
   ]
  },
  {
   "cell_type": "code",
   "execution_count": 3,
   "metadata": {},
   "outputs": [
    {
     "name": "stdout",
     "output_type": "stream",
     "text": [
      "The probability that the server is overwhelmed is: 0.0129\n"
     ]
    }
   ],
   "source": [
    "#code here\n",
    "import scipy.stats as stats\n",
    "\n",
    "# Average visits per hour (lambda)\n",
    "avg_visits = 500\n",
    "\n",
    "# Maximum capacity of the server\n",
    "server_capacity = 550\n",
    "\n",
    "# Calculate the probability that the server is overwhelmed\n",
    "probability_overwhelmed = 1 - stats.poisson.cdf(server_capacity, avg_visits)\n",
    "\n",
    "print(f\"The probability that the server is overwhelmed is: {probability_overwhelmed:.4f}\")\n"
   ]
  },
  {
   "cell_type": "markdown",
   "metadata": {},
   "source": [
    "What is the probability of being overwhelmed at some point during a day? (consider 24hours)"
   ]
  },
  {
   "cell_type": "code",
   "execution_count": 4,
   "metadata": {},
   "outputs": [
    {
     "name": "stdout",
     "output_type": "stream",
     "text": [
      "The probability that the server is overwhelmed at least once during the day is: 0.2677\n"
     ]
    }
   ],
   "source": [
    "#code here\n",
    "import scipy.stats as stats\n",
    "\n",
    "# Average visits per hour (lambda)\n",
    "avg_visits = 500\n",
    "\n",
    "# Maximum capacity of the server\n",
    "server_capacity = 550\n",
    "\n",
    "# Calculate the probability that the server is overwhelmed in one hour\n",
    "probability_overwhelmed_per_hour = 1 - stats.poisson.cdf(server_capacity, avg_visits)\n",
    "\n",
    "# Calculate the probability that the server is overwhelmed at least once in 24 hours\n",
    "probability_overwhelmed_per_day = 1 - (1 - probability_overwhelmed_per_hour) ** 24\n",
    "\n",
    "print(f\"The probability that the server is overwhelmed at least once during the day is: {probability_overwhelmed_per_day:.4f}\")\n"
   ]
  },
  {
   "cell_type": "markdown",
   "metadata": {},
   "source": [
    "**Challenge 4**"
   ]
  },
  {
   "cell_type": "markdown",
   "metadata": {},
   "source": [
    "#### Ironhack Helpdesk"
   ]
  },
  {
   "cell_type": "markdown",
   "metadata": {},
   "source": [
    "Consider a scenario related to the time between arrivals of customers at a service desk.\n",
    "\n",
    "On average, a customers arrives every 10minutes.\n",
    "\n",
    "What is the probability that the next customer will arrive within the next 5 minutes?"
   ]
  },
  {
   "cell_type": "code",
   "execution_count": 5,
   "metadata": {},
   "outputs": [
    {
     "name": "stdout",
     "output_type": "stream",
     "text": [
      "The probability that the next customer arrives within 5 minutes is: 0.3935\n"
     ]
    }
   ],
   "source": [
    "import math\n",
    "\n",
    "# Average time between customer arrivals (in minutes)\n",
    "average_time = 10\n",
    "\n",
    "# Rate parameter for exponential distribution\n",
    "rate = 1 / average_time\n",
    "\n",
    "# Time interval we are interested in (5 minutes)\n",
    "time_interval = 5\n",
    "\n",
    "# Calculate the probability using the exponential distribution CDF\n",
    "probability_within_5_minutes = 1 - math.exp(-rate * time_interval)\n",
    "\n",
    "print(f\"The probability that the next customer arrives within 5 minutes is: {probability_within_5_minutes:.4f}\")\n"
   ]
  },
  {
   "cell_type": "markdown",
   "metadata": {},
   "source": [
    "If there is no customer for 15minutes, employees can that a 5minutes break.\n",
    "\n",
    "What is the probability an employee taking a break?"
   ]
  },
  {
   "cell_type": "code",
   "execution_count": 6,
   "metadata": {},
   "outputs": [
    {
     "name": "stdout",
     "output_type": "stream",
     "text": [
      "The probability that no customer arrives within 15 minutes (employee can take a break) is: 0.2231\n"
     ]
    }
   ],
   "source": [
    "import math\n",
    "\n",
    "# Average time between customer arrivals (in minutes)\n",
    "average_time = 10\n",
    "\n",
    "# Rate parameter for exponential distribution\n",
    "rate = 1 / average_time\n",
    "\n",
    "# Time threshold (15 minutes) to check if no customer arrives\n",
    "time_threshold = 15\n",
    "\n",
    "# Calculate the probability that no customer arrives within 15 minutes\n",
    "probability_no_customer_15_minutes = math.exp(-rate * time_threshold)\n",
    "\n",
    "print(f\"The probability that no customer arrives within 15 minutes (employee can take a break) is: {probability_no_customer_15_minutes:.4f}\")\n"
   ]
  },
  {
   "cell_type": "markdown",
   "metadata": {},
   "source": [
    "**Challenge 5**"
   ]
  },
  {
   "cell_type": "markdown",
   "metadata": {},
   "source": [
    "The weights of a certain species of birds follow a normal distribution with a mean weight of 150 grams and a standard deviation of 10 grams. \n",
    "\n",
    "- If we randomly select a bird, what is the probability that its weight is between 140 and 160 grams?"
   ]
  },
  {
   "cell_type": "code",
   "execution_count": 7,
   "metadata": {},
   "outputs": [
    {
     "name": "stdout",
     "output_type": "stream",
     "text": [
      "The probability that the bird's weight is between 140 and 160 grams is: 0.6827\n"
     ]
    }
   ],
   "source": [
    "#code here\n",
    "import scipy.stats as stats\n",
    "\n",
    "# Parameters of the normal distribution\n",
    "mean_weight = 150\n",
    "std_deviation = 10\n",
    "\n",
    "# Calculate the z-scores for 140 grams and 160 grams\n",
    "z1 = (140 - mean_weight) / std_deviation\n",
    "z2 = (160 - mean_weight) / std_deviation\n",
    "\n",
    "# Calculate the cumulative probabilities for these z-scores\n",
    "p1 = stats.norm.cdf(z1)\n",
    "p2 = stats.norm.cdf(z2)\n",
    "\n",
    "# The probability that the bird's weight is between 140 and 160 grams\n",
    "probability = p2 - p1\n",
    "\n",
    "print(f\"The probability that the bird's weight is between 140 and 160 grams is: {probability:.4f}\")\n"
   ]
  },
  {
   "cell_type": "markdown",
   "metadata": {},
   "source": [
    "**Challenge 6**"
   ]
  },
  {
   "cell_type": "markdown",
   "metadata": {},
   "source": [
    "If the lifetime (in hours) of a certain electronic component follows an exponential distribution with a mean lifetime of 50 hours, what is the probability that the component fails within the first 30 hours?"
   ]
  },
  {
   "cell_type": "code",
   "execution_count": 8,
   "metadata": {},
   "outputs": [
    {
     "name": "stdout",
     "output_type": "stream",
     "text": [
      "The probability that the component fails within the first 30 hours is: 0.4512\n"
     ]
    }
   ],
   "source": [
    "#code here\n",
    "import math\n",
    "\n",
    "# Given mean lifetime (in hours)\n",
    "mean_lifetime = 50\n",
    "\n",
    "# Rate parameter for exponential distribution\n",
    "rate = 1 / mean_lifetime\n",
    "\n",
    "# Time (in hours) we are interested in\n",
    "time = 30\n",
    "\n",
    "# Calculate the probability using the CDF of the exponential distribution\n",
    "probability_failure_within_30_hours = 1 - math.exp(-rate * time)\n",
    "\n",
    "print(f\"The probability that the component fails within the first 30 hours is: {probability_failure_within_30_hours:.4f}\")\n"
   ]
  }
 ],
 "metadata": {
  "kernelspec": {
   "display_name": "Python 3",
   "language": "python",
   "name": "python3"
  },
  "language_info": {
   "codemirror_mode": {
    "name": "ipython",
    "version": 3
   },
   "file_extension": ".py",
   "mimetype": "text/x-python",
   "name": "python",
   "nbconvert_exporter": "python",
   "pygments_lexer": "ipython3",
   "version": "3.12.4"
  }
 },
 "nbformat": 4,
 "nbformat_minor": 2
}
